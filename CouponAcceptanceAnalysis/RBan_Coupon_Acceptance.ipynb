{
 "cells": [
  {
   "cell_type": "markdown",
   "metadata": {},
   "source": [
    "### Will a Customer Accept the Coupon?\n",
    "\n",
    "**Context**\n",
    "\n",
    "Imagine driving through town and a coupon is delivered to your cell phone for a restaraunt near where you are driving. Would you accept that coupon and take a short detour to the restaraunt? Would you accept the coupon but use it on a sunbsequent trip? Would you ignore the coupon entirely? What if the coupon was for a bar instead of a restaraunt? What about a coffee house? Would you accept a bar coupon with a minor passenger in the car? What about if it was just you and your partner in the car? Would weather impact the rate of acceptance? What about the time of day?\n",
    "\n",
    "Obviously, proximity to the business is a factor on whether the coupon is delivered to the driver or not, but what are the factors that determine whether a driver accepts the coupon once it is delivered to them? How would you determine whether a driver is likely to accept a coupon?\n",
    "\n",
    "**Overview**\n",
    "\n",
    "The goal of this project is to use what you know about visualizations and probability distributions to distinguish between customers who accepted a driving coupon versus those that did not.\n",
    "\n",
    "**Data**\n",
    "\n",
    "This data comes to us from the UCI Machine Learning repository and was collected via a survey on Amazon Mechanical Turk. The survey describes different driving scenarios including the destination, current time, weather, passenger, etc., and then ask the person whether he will accept the coupon if he is the driver. Answers that the user will drive there ‘right away’ or ‘later before the coupon expires’ are labeled as ‘Y = 1’ and answers ‘no, I do not want the coupon’ are labeled as ‘Y = 0’.  There are five different types of coupons -- less expensive restaurants (under \\\\$20), coffee houses, carry out & take away, bar, and more expensive restaurants (\\\\$20 - \\\\$50). "
   ]
  },
  {
   "cell_type": "markdown",
   "metadata": {},
   "source": [
    "**Deliverables**\n",
    "\n",
    "Your final product should be a brief report that highlights the differences between customers who did and did not accept the coupons.  To explore the data you will utilize your knowledge of plotting, statistical summaries, and visualization using Python. You will publish your findings in a public facing github repository as your first portfolio piece. \n",
    "\n",
    "\n",
    "\n"
   ]
  },
  {
   "cell_type": "markdown",
   "metadata": {},
   "source": [
    "### Data Description\n",
    "Keep in mind that these values mentioned below are average values.\n",
    "\n",
    "The attributes of this data set include:\n",
    "1. User attributes\n",
    "    -  **gender**: male, female\n",
    "    -  **age**: below 21, 21 to 25, 26 to 30, etc.\n",
    "    -  **maritalStatus**: single, married partner, unmarried partner, or widowed\n",
    "    -  **has_children**: Number of children: 0, 1, or more than 1\n",
    "    -  **education**: high school, bachelors degree, associates degree, or graduate degree\n",
    "    -  **occupation**: architecture & engineering, business & financial, etc.\n",
    "    -  **income**: less than \\\\$12500, \\\\$12500 - \\\\$24999, \\\\$25000 - \\\\$37499, etc.\n",
    "    -  **car**: empty column<br>\n",
    "    -  **bar**: Number of times that he/she goes to a bar: 0, less than 1, 1 to 3, 4 to 8 or greater than 8\n",
    "    -  **CarryAway**: Number of times that he/she buys takeaway food: 0, less than 1, 1 to 3, 4 to 8 or greater\n",
    "    than 8\n",
    "    -  **CoffeeHouse** Number of times that he/she goes to a coffee house: 0, less than 1, 1 to 3, 4 to 8 or\n",
    "    greater than 8\n",
    "    -  **RestaurantLessThan20**: Number of times that he/she eats at a restaurant with <br>\n",
    "    average expense less than \\\\$20 per\n",
    "    person: 0, less than 1, 1 to 3, 4 to 8 or greater than 8\n",
    "    -  **bar**: Number of times that he/she goes to a bar: 0, less than 1, 1 to 3, 4 to 8 or greater than 8\n",
    "    - **toCoupon_GEQ5min**: Indicates whether the travel time to the coupon redemption location is 5 minutes or more.\n",
    "    - **toCoupon_GEQ15min**: Indicates whether the travel time to the coupon redemption location is 15 minutes or more.\n",
    "    - **toCoupon_GEQ25min**: Indicates whether the travel time to the coupon redemption location is 25 minutes or more.\n",
    "    \n",
    "<br>\n",
    "2. Contextual attributes\n",
    "    - **destination**: Driving destination: home, work, or no urgent destination\n",
    "    - Location of user, coupon and destination: we provide a map to show the geographical\n",
    "    location of the user, destination, and the venue, and we mark the distance between each\n",
    "    two places with time of driving. The user can see whether the venue is in the same\n",
    "    direction as the destination.\n",
    "    - **weather**: sunny, rainy, or snowy\n",
    "    - **temperature**: 30F, 55F, or 80F\n",
    "    - **time**: 10AM, 2PM, or 6PM\n",
    "    - **passenger**: alone, partner, kid(s), or friend(s)\n",
    "\n",
    "\n",
    "3. Coupon attributes\n",
    "    - **coupon**: type of coupon received\n",
    "    - **expiration**: time before it expires: 2 hours or one day\n",
    "    "
   ]
  },
  {
   "cell_type": "code",
   "execution_count": 1,
   "metadata": {},
   "outputs": [
    {
     "name": "stderr",
     "output_type": "stream",
     "text": [
      "/Library/Frameworks/Python.framework/Versions/3.10/lib/python3.10/site-packages/scipy/__init__.py:155: UserWarning: A NumPy version >=1.18.5 and <1.25.0 is required for this version of SciPy (detected version 1.26.1\n",
      "  warnings.warn(f\"A NumPy version >={np_minversion} and <{np_maxversion}\"\n"
     ]
    }
   ],
   "source": [
    "import matplotlib.pyplot as plt\n",
    "import seaborn as sns\n",
    "import pandas as pd\n",
    "import numpy as np"
   ]
  },
  {
   "cell_type": "markdown",
   "metadata": {},
   "source": [
    "### Exploratory Data Analysis (EDA)\n",
    "\n",
    "**Understanding the data**: Identifying the number of features, records, missing values, and data types.\n",
    "\n",
    "**Summarizing main characteristics**: Often through statistical summaries and data visualization.\n",
    "\n",
    "**Identifying patterns and relationships**: Noting correlations, patterns, and trends among the data features.\n",
    "\n",
    "**Spotting anomalies and outliers**: Detecting unusual data points that deviate from the norm.\n",
    "\n",
    "**Formulating hypotheses for further analysis**: Based on initial findings, hypotheses can be developed which may later be tested using more detailed statistical analysis.\n",
    "\n",
    "### Problems\n",
    "\n",
    "Use the prompts below to get started with your data analysis.  \n",
    "\n",
    "1. Read in the `coupons.csv` file.\n",
    "\n",
    "\n"
   ]
  },
  {
   "cell_type": "code",
   "execution_count": 2,
   "metadata": {},
   "outputs": [],
   "source": [
    "data = pd.read_csv('data/coupons.csv')"
   ]
  },
  {
   "cell_type": "code",
   "execution_count": 3,
   "metadata": {},
   "outputs": [
    {
     "data": {
      "text/plain": [
       "Index(['destination', 'passanger', 'weather', 'temperature', 'time', 'coupon',\n",
       "       'expiration', 'gender', 'age', 'maritalStatus', 'has_children',\n",
       "       'education', 'occupation', 'income', 'car', 'Bar', 'CoffeeHouse',\n",
       "       'CarryAway', 'RestaurantLessThan20', 'Restaurant20To50',\n",
       "       'toCoupon_GEQ5min', 'toCoupon_GEQ15min', 'toCoupon_GEQ25min',\n",
       "       'direction_same', 'direction_opp', 'Y'],\n",
       "      dtype='object')"
      ]
     },
     "execution_count": 3,
     "metadata": {},
     "output_type": "execute_result"
    }
   ],
   "source": [
    "data.columns"
   ]
  },
  {
   "cell_type": "code",
   "execution_count": 4,
   "metadata": {},
   "outputs": [
    {
     "data": {
      "text/html": [
       "<div>\n",
       "<style scoped>\n",
       "    .dataframe tbody tr th:only-of-type {\n",
       "        vertical-align: middle;\n",
       "    }\n",
       "\n",
       "    .dataframe tbody tr th {\n",
       "        vertical-align: top;\n",
       "    }\n",
       "\n",
       "    .dataframe thead th {\n",
       "        text-align: right;\n",
       "    }\n",
       "</style>\n",
       "<table border=\"1\" class=\"dataframe\">\n",
       "  <thead>\n",
       "    <tr style=\"text-align: right;\">\n",
       "      <th></th>\n",
       "      <th>destination</th>\n",
       "      <th>passanger</th>\n",
       "      <th>weather</th>\n",
       "      <th>temperature</th>\n",
       "      <th>time</th>\n",
       "      <th>coupon</th>\n",
       "      <th>expiration</th>\n",
       "      <th>gender</th>\n",
       "      <th>age</th>\n",
       "      <th>maritalStatus</th>\n",
       "      <th>has_children</th>\n",
       "      <th>education</th>\n",
       "      <th>occupation</th>\n",
       "      <th>income</th>\n",
       "      <th>car</th>\n",
       "      <th>Bar</th>\n",
       "      <th>CoffeeHouse</th>\n",
       "      <th>CarryAway</th>\n",
       "      <th>RestaurantLessThan20</th>\n",
       "      <th>Restaurant20To50</th>\n",
       "      <th>toCoupon_GEQ5min</th>\n",
       "      <th>toCoupon_GEQ15min</th>\n",
       "      <th>toCoupon_GEQ25min</th>\n",
       "      <th>direction_same</th>\n",
       "      <th>direction_opp</th>\n",
       "      <th>Y</th>\n",
       "    </tr>\n",
       "  </thead>\n",
       "  <tbody>\n",
       "    <tr>\n",
       "      <th>0</th>\n",
       "      <td>No Urgent Place</td>\n",
       "      <td>Alone</td>\n",
       "      <td>Sunny</td>\n",
       "      <td>55</td>\n",
       "      <td>2PM</td>\n",
       "      <td>Restaurant(&lt;20)</td>\n",
       "      <td>1d</td>\n",
       "      <td>Female</td>\n",
       "      <td>21</td>\n",
       "      <td>Unmarried partner</td>\n",
       "      <td>1</td>\n",
       "      <td>Some college - no degree</td>\n",
       "      <td>Unemployed</td>\n",
       "      <td>$37500 - $49999</td>\n",
       "      <td>NaN</td>\n",
       "      <td>never</td>\n",
       "      <td>never</td>\n",
       "      <td>NaN</td>\n",
       "      <td>4~8</td>\n",
       "      <td>1~3</td>\n",
       "      <td>1</td>\n",
       "      <td>0</td>\n",
       "      <td>0</td>\n",
       "      <td>0</td>\n",
       "      <td>1</td>\n",
       "      <td>1</td>\n",
       "    </tr>\n",
       "    <tr>\n",
       "      <th>1</th>\n",
       "      <td>No Urgent Place</td>\n",
       "      <td>Friend(s)</td>\n",
       "      <td>Sunny</td>\n",
       "      <td>80</td>\n",
       "      <td>10AM</td>\n",
       "      <td>Coffee House</td>\n",
       "      <td>2h</td>\n",
       "      <td>Female</td>\n",
       "      <td>21</td>\n",
       "      <td>Unmarried partner</td>\n",
       "      <td>1</td>\n",
       "      <td>Some college - no degree</td>\n",
       "      <td>Unemployed</td>\n",
       "      <td>$37500 - $49999</td>\n",
       "      <td>NaN</td>\n",
       "      <td>never</td>\n",
       "      <td>never</td>\n",
       "      <td>NaN</td>\n",
       "      <td>4~8</td>\n",
       "      <td>1~3</td>\n",
       "      <td>1</td>\n",
       "      <td>0</td>\n",
       "      <td>0</td>\n",
       "      <td>0</td>\n",
       "      <td>1</td>\n",
       "      <td>0</td>\n",
       "    </tr>\n",
       "    <tr>\n",
       "      <th>2</th>\n",
       "      <td>No Urgent Place</td>\n",
       "      <td>Friend(s)</td>\n",
       "      <td>Sunny</td>\n",
       "      <td>80</td>\n",
       "      <td>10AM</td>\n",
       "      <td>Carry out &amp; Take away</td>\n",
       "      <td>2h</td>\n",
       "      <td>Female</td>\n",
       "      <td>21</td>\n",
       "      <td>Unmarried partner</td>\n",
       "      <td>1</td>\n",
       "      <td>Some college - no degree</td>\n",
       "      <td>Unemployed</td>\n",
       "      <td>$37500 - $49999</td>\n",
       "      <td>NaN</td>\n",
       "      <td>never</td>\n",
       "      <td>never</td>\n",
       "      <td>NaN</td>\n",
       "      <td>4~8</td>\n",
       "      <td>1~3</td>\n",
       "      <td>1</td>\n",
       "      <td>1</td>\n",
       "      <td>0</td>\n",
       "      <td>0</td>\n",
       "      <td>1</td>\n",
       "      <td>1</td>\n",
       "    </tr>\n",
       "    <tr>\n",
       "      <th>3</th>\n",
       "      <td>No Urgent Place</td>\n",
       "      <td>Friend(s)</td>\n",
       "      <td>Sunny</td>\n",
       "      <td>80</td>\n",
       "      <td>2PM</td>\n",
       "      <td>Coffee House</td>\n",
       "      <td>2h</td>\n",
       "      <td>Female</td>\n",
       "      <td>21</td>\n",
       "      <td>Unmarried partner</td>\n",
       "      <td>1</td>\n",
       "      <td>Some college - no degree</td>\n",
       "      <td>Unemployed</td>\n",
       "      <td>$37500 - $49999</td>\n",
       "      <td>NaN</td>\n",
       "      <td>never</td>\n",
       "      <td>never</td>\n",
       "      <td>NaN</td>\n",
       "      <td>4~8</td>\n",
       "      <td>1~3</td>\n",
       "      <td>1</td>\n",
       "      <td>1</td>\n",
       "      <td>0</td>\n",
       "      <td>0</td>\n",
       "      <td>1</td>\n",
       "      <td>0</td>\n",
       "    </tr>\n",
       "    <tr>\n",
       "      <th>4</th>\n",
       "      <td>No Urgent Place</td>\n",
       "      <td>Friend(s)</td>\n",
       "      <td>Sunny</td>\n",
       "      <td>80</td>\n",
       "      <td>2PM</td>\n",
       "      <td>Coffee House</td>\n",
       "      <td>1d</td>\n",
       "      <td>Female</td>\n",
       "      <td>21</td>\n",
       "      <td>Unmarried partner</td>\n",
       "      <td>1</td>\n",
       "      <td>Some college - no degree</td>\n",
       "      <td>Unemployed</td>\n",
       "      <td>$37500 - $49999</td>\n",
       "      <td>NaN</td>\n",
       "      <td>never</td>\n",
       "      <td>never</td>\n",
       "      <td>NaN</td>\n",
       "      <td>4~8</td>\n",
       "      <td>1~3</td>\n",
       "      <td>1</td>\n",
       "      <td>1</td>\n",
       "      <td>0</td>\n",
       "      <td>0</td>\n",
       "      <td>1</td>\n",
       "      <td>0</td>\n",
       "    </tr>\n",
       "  </tbody>\n",
       "</table>\n",
       "</div>"
      ],
      "text/plain": [
       "       destination  passanger weather  temperature  time  \\\n",
       "0  No Urgent Place      Alone   Sunny           55   2PM   \n",
       "1  No Urgent Place  Friend(s)   Sunny           80  10AM   \n",
       "2  No Urgent Place  Friend(s)   Sunny           80  10AM   \n",
       "3  No Urgent Place  Friend(s)   Sunny           80   2PM   \n",
       "4  No Urgent Place  Friend(s)   Sunny           80   2PM   \n",
       "\n",
       "                  coupon expiration  gender age      maritalStatus  \\\n",
       "0        Restaurant(<20)         1d  Female  21  Unmarried partner   \n",
       "1           Coffee House         2h  Female  21  Unmarried partner   \n",
       "2  Carry out & Take away         2h  Female  21  Unmarried partner   \n",
       "3           Coffee House         2h  Female  21  Unmarried partner   \n",
       "4           Coffee House         1d  Female  21  Unmarried partner   \n",
       "\n",
       "   has_children                 education  occupation           income  car  \\\n",
       "0             1  Some college - no degree  Unemployed  $37500 - $49999  NaN   \n",
       "1             1  Some college - no degree  Unemployed  $37500 - $49999  NaN   \n",
       "2             1  Some college - no degree  Unemployed  $37500 - $49999  NaN   \n",
       "3             1  Some college - no degree  Unemployed  $37500 - $49999  NaN   \n",
       "4             1  Some college - no degree  Unemployed  $37500 - $49999  NaN   \n",
       "\n",
       "     Bar CoffeeHouse CarryAway RestaurantLessThan20 Restaurant20To50  \\\n",
       "0  never       never       NaN                  4~8              1~3   \n",
       "1  never       never       NaN                  4~8              1~3   \n",
       "2  never       never       NaN                  4~8              1~3   \n",
       "3  never       never       NaN                  4~8              1~3   \n",
       "4  never       never       NaN                  4~8              1~3   \n",
       "\n",
       "   toCoupon_GEQ5min  toCoupon_GEQ15min  toCoupon_GEQ25min  direction_same  \\\n",
       "0                 1                  0                  0               0   \n",
       "1                 1                  0                  0               0   \n",
       "2                 1                  1                  0               0   \n",
       "3                 1                  1                  0               0   \n",
       "4                 1                  1                  0               0   \n",
       "\n",
       "   direction_opp  Y  \n",
       "0              1  1  \n",
       "1              1  0  \n",
       "2              1  1  \n",
       "3              1  0  \n",
       "4              1  0  "
      ]
     },
     "execution_count": 4,
     "metadata": {},
     "output_type": "execute_result"
    }
   ],
   "source": [
    "# Set the option to display all columns (None means no limit)\n",
    "pd.set_option('display.max_columns', None)\n",
    "\n",
    "# Now when you use head(), all columns will be displayed\n",
    "data.head()"
   ]
  },
  {
   "cell_type": "markdown",
   "metadata": {},
   "source": [
    "2. Investigate the dataset for missing or problematic data."
   ]
  },
  {
   "cell_type": "code",
   "execution_count": 5,
   "metadata": {},
   "outputs": [
    {
     "name": "stdout",
     "output_type": "stream",
     "text": [
      "<class 'pandas.core.frame.DataFrame'>\n",
      "RangeIndex: 12684 entries, 0 to 12683\n",
      "Data columns (total 26 columns):\n",
      " #   Column                Non-Null Count  Dtype \n",
      "---  ------                --------------  ----- \n",
      " 0   destination           12684 non-null  object\n",
      " 1   passanger             12684 non-null  object\n",
      " 2   weather               12684 non-null  object\n",
      " 3   temperature           12684 non-null  int64 \n",
      " 4   time                  12684 non-null  object\n",
      " 5   coupon                12684 non-null  object\n",
      " 6   expiration            12684 non-null  object\n",
      " 7   gender                12684 non-null  object\n",
      " 8   age                   12684 non-null  object\n",
      " 9   maritalStatus         12684 non-null  object\n",
      " 10  has_children          12684 non-null  int64 \n",
      " 11  education             12684 non-null  object\n",
      " 12  occupation            12684 non-null  object\n",
      " 13  income                12684 non-null  object\n",
      " 14  car                   108 non-null    object\n",
      " 15  Bar                   12577 non-null  object\n",
      " 16  CoffeeHouse           12467 non-null  object\n",
      " 17  CarryAway             12533 non-null  object\n",
      " 18  RestaurantLessThan20  12554 non-null  object\n",
      " 19  Restaurant20To50      12495 non-null  object\n",
      " 20  toCoupon_GEQ5min      12684 non-null  int64 \n",
      " 21  toCoupon_GEQ15min     12684 non-null  int64 \n",
      " 22  toCoupon_GEQ25min     12684 non-null  int64 \n",
      " 23  direction_same        12684 non-null  int64 \n",
      " 24  direction_opp         12684 non-null  int64 \n",
      " 25  Y                     12684 non-null  int64 \n",
      "dtypes: int64(8), object(18)\n",
      "memory usage: 2.5+ MB\n"
     ]
    }
   ],
   "source": [
    "data.info()"
   ]
  },
  {
   "cell_type": "markdown",
   "metadata": {},
   "source": [
    "3. Decide what to do about your missing data -- drop, replace, other..."
   ]
  },
  {
   "cell_type": "code",
   "execution_count": 6,
   "metadata": {
    "scrolled": true
   },
   "outputs": [
    {
     "data": {
      "text/plain": [
       "destination                 0\n",
       "passanger                   0\n",
       "weather                     0\n",
       "temperature                 0\n",
       "time                        0\n",
       "coupon                      0\n",
       "expiration                  0\n",
       "gender                      0\n",
       "age                         0\n",
       "maritalStatus               0\n",
       "has_children                0\n",
       "education                   0\n",
       "occupation                  0\n",
       "income                      0\n",
       "car                     12576\n",
       "Bar                       107\n",
       "CoffeeHouse               217\n",
       "CarryAway                 151\n",
       "RestaurantLessThan20      130\n",
       "Restaurant20To50          189\n",
       "toCoupon_GEQ5min            0\n",
       "toCoupon_GEQ15min           0\n",
       "toCoupon_GEQ25min           0\n",
       "direction_same              0\n",
       "direction_opp               0\n",
       "Y                           0\n",
       "dtype: int64"
      ]
     },
     "execution_count": 6,
     "metadata": {},
     "output_type": "execute_result"
    }
   ],
   "source": [
    "data.isnull().sum()"
   ]
  },
  {
   "cell_type": "code",
   "execution_count": 7,
   "metadata": {},
   "outputs": [
    {
     "data": {
      "text/plain": [
       "(12684, 26)"
      ]
     },
     "execution_count": 7,
     "metadata": {},
     "output_type": "execute_result"
    }
   ],
   "source": [
    "data.shape"
   ]
  },
  {
   "cell_type": "markdown",
   "metadata": {},
   "source": [
    "### Data Cleanup\n",
    "\n",
    "**Cleaning**: This involves removing or correcting inaccuracies, errors, and inconsistencies in the data. For example, fixing typographical errors or inconsistencies in naming conventions.\n",
    "\n",
    "**Handling Missing Data**: Deciding how to address missing values in the dataset—whether to impute them using statistical methods (mean, median, mode, etc.), predict them using more complex algorithms, or simply remove the data points or features that have missing values.\n",
    "\n",
    "**Data Transformation**: This could include normalizing or scaling data so that it fits within a specific scale, like 0-1 or -1 to 1, making it easier to compare and analyze.\n",
    "\n",
    "**Data Integration**: If there are multiple datasets, this step may involve combining them into a single consistent dataset.\n",
    "\n",
    "**Data Reduction**: Reducing complexity of data by removing irrelevant features, aggregating data, or using dimensionality reduction techniques.\n",
    "\n",
    "**Standardization**: Converting data into a common format that allows analysts to perform comparisons and analysis more effectively.\n",
    "\n",
    "**Feature Engineering**: Creating new features or modifying existing ones to improve the predictive power of the machine learning models."
   ]
  },
  {
   "cell_type": "markdown",
   "metadata": {},
   "source": [
    "#### Standardize column name"
   ]
  },
  {
   "cell_type": "code",
   "execution_count": 8,
   "metadata": {},
   "outputs": [
    {
     "data": {
      "text/plain": [
       "Index(['destination', 'passenger', 'weather', 'temperature', 'time', 'coupon',\n",
       "       'expiration', 'gender', 'age', 'marital_status', 'has_children',\n",
       "       'education', 'occupation', 'income', 'car', 'bar', 'coffee_house',\n",
       "       'carry_away', 'restaurant_less_than_20', 'restaurant_20_to_50',\n",
       "       'to_coupon_geq5min', 'to_coupon_geq15min', 'to_coupon_geq25min',\n",
       "       'direction_same', 'direction_opp', 'y'],\n",
       "      dtype='object')"
      ]
     },
     "execution_count": 8,
     "metadata": {},
     "output_type": "execute_result"
    }
   ],
   "source": [
    "# Rename columns\n",
    "data.rename(columns={\n",
    "    'passanger': 'passenger',       # correct spelling \n",
    "    'maritalStatus': 'marital_status',\n",
    "    'Bar': 'bar',\n",
    "    'CoffeeHouse': 'coffee_house',\n",
    "    'CarryAway': 'carry_away',\n",
    "    'RestaurantLessThan20': 'restaurant_less_than_20', \n",
    "    'Restaurant20To50': 'restaurant_20_to_50',\n",
    "    'toCoupon_GEQ5min': 'to_coupon_geq5min', \n",
    "    'toCoupon_GEQ15min': 'to_coupon_geq15min', \n",
    "    'toCoupon_GEQ25min': 'to_coupon_geq25min',\n",
    "    'Y': 'y'\n",
    "}, inplace=True)\n",
    "\n",
    "# Print out the column names after the rename step\n",
    "data.columns"
   ]
  },
  {
   "cell_type": "markdown",
   "metadata": {},
   "source": [
    "#### Standardize text formats"
   ]
  },
  {
   "cell_type": "code",
   "execution_count": 9,
   "metadata": {},
   "outputs": [],
   "source": [
    "# Standardizing text formats\n",
    "data['coupon'] = data['coupon'].replace({\n",
    "    'Restaurant\\(\\<20\\)': 'Restaurant_Less_Than_20',\n",
    "    'Restaurant\\(20-50\\)': 'Restaurant_20_to_50',\n",
    "    'Carry out & Take away': 'Carry_Out_Take_Away'\n",
    "}, regex=True)\n",
    "\n",
    "# Standardize income ranges\n",
    "data['income'] = data['income'].str.replace('−', '-')\n",
    "data['income'] = data['income'].str.replace(' - ', '-')\n",
    "\n",
    "\n",
    "# Clean the income column\n",
    "data['income'] = data['income'].str.replace('$', '').str.replace(',', '').str.strip()\n",
    "\n",
    "# Replace the \"~\" with \"-\" in the 'restaurant_less_than_20' column\n",
    "data['restaurant_less_than_20'] = data['restaurant_less_than_20'].str.replace('~', '-', regex=False)\n",
    "\n",
    "# Replace the \"~\" with \"-\" in the 'restaurant_20_to_50' column\n",
    "data['restaurant_20_to_50'] = data['restaurant_20_to_50'].str.replace('~', '-', regex=False)\n",
    "\n",
    "# Replace the \"~\" with \"-\" in the 'carry_away' column\n",
    "data['carry_away'] = data['carry_away'].str.replace('~', '-', regex=False)\n",
    "\n",
    "# Clean and standardize occupation entries\n",
    "data['occupation'] = data['occupation'].str.replace('&', ' & ', regex=False)\n",
    "data['occupation'] = data['occupation'].str.replace(r'\\s{2,}', ' ', regex=True)  # Clean up multiple spaces\n",
    "data['occupation'] = data['occupation'].str.title()  # Convert to title case\n",
    "data['occupation'] = data['occupation'].str.strip()  # Trim whitespace\n",
    "\n",
    "# Convert 'occupation' column to categorical\n",
    "data['occupation'] = pd.Categorical(data['occupation'])"
   ]
  },
  {
   "cell_type": "markdown",
   "metadata": {},
   "source": [
    "#### Handling missing data"
   ]
  },
  {
   "cell_type": "code",
   "execution_count": 10,
   "metadata": {},
   "outputs": [],
   "source": [
    "# Replace NaN in specific columns with a placeholder or most frequent value\n",
    "for column in ['coffee_house', 'carry_away', 'bar', 'restaurant_20_to_50', 'restaurant_less_than_20']:\n",
    "    most_common = data[column].mode()[0]\n",
    "    data[column].fillna(most_common, inplace=True)\n",
    "    \n",
    "# Fill NaN values for 'car' as 'Unknown'\n",
    "data['car'] = data['car'].fillna('Unknown')\n"
   ]
  },
  {
   "cell_type": "markdown",
   "metadata": {},
   "source": [
    "#### Data Transformations\n",
    "\n",
    "<br>\n",
    "\n",
    "**age** column - Replace \"below21\" and \"50plus\": Assign numeric values to these categories. Convert the entire column to integer data type to facilitate numerical operations."
   ]
  },
  {
   "cell_type": "code",
   "execution_count": 11,
   "metadata": {},
   "outputs": [],
   "source": [
    "# Convert data types\n",
    "categorical_columns = ['destination', 'passenger', 'weather', 'time', 'income', 'bar',\n",
    "                       'coupon', 'expiration', 'gender', 'marital_status', 'education', 'occupation']\n",
    "for col in categorical_columns:\n",
    "    data[col] = data[col].astype('category')\n",
    "    \n",
    "    \n",
    "# Replace '50plus' with 55 and 'below21' with 21 \n",
    "data['age'] = data['age'].replace({'50plus': '55', 'below21': '21'})\n",
    "# Now convert the entire column to integer\n",
    "data['age'] = data['age'].astype(int)\n",
    "\n",
    "# Clean and standardize the 'bar' column\n",
    "data['bar'] = data['bar'].replace({\n",
    "    'less1': 'Less than 1',\n",
    "    '1~3': '1-3 times',\n",
    "    '4~8': '4-8 times',\n",
    "    'gt8': 'More than 8',\n",
    "}).replace('never', 'Never')\n",
    "\n",
    "# Convert 'bar' column to categorical\n",
    "data['bar'] = pd.Categorical(data['bar'], categories=['Never', 'Less than 1', \n",
    "                                                                        '1-3 times', '4-8 times', \n",
    "                                                                        'More than 8'], ordered=True)\n",
    "\n",
    "\n",
    "# Clean and standardize the 'coffee_house' column\n",
    "data['coffee_house'] = data['coffee_house'].replace({\n",
    "    'less1': 'Less than 1',\n",
    "    '1~3': '1-3 times',\n",
    "    '4~8': '4-8 times',\n",
    "    'gt8': 'More than 8',\n",
    "    'never': 'Never'\n",
    "})\n",
    "\n",
    "# Convert 'coffee_house' column to categorical\n",
    "data['coffee_house'] = pd.Categorical(data['coffee_house'], categories=['Never', 'Less than 1', \n",
    "                                                                        '1-3 times', '4-8 times', \n",
    "                                                                        'More than 8'], ordered=True)\n",
    "\n",
    "# Clean and standardize the 'carry_away' column\n",
    "data['carry_away'] = data['carry_away'].replace({\n",
    "    'less1': 'Less than 1',\n",
    "    'gt8': 'More than 8',\n",
    "    'never': 'Never',\n",
    "    '1-3': '1-3 times',\n",
    "    '4-8': '4-8 times'\n",
    "})\n",
    "\n",
    "# Convert 'carry_away' column to categorical\n",
    "data['carry_away'] = pd.Categorical(data['carry_away'], categories=['Never', 'Less than 1', \n",
    "                                                                    '1-3 times', '4-8 times', \n",
    "                                                                    'More than 8'], ordered=True)\n",
    "\n",
    "# Clean and standardize the 'restaurant_less_than_20' column\n",
    "data['restaurant_less_than_20'] = data['restaurant_less_than_20'].replace({\n",
    "    'less1': 'Less than 1',\n",
    "    'gt8': 'More than 8',\n",
    "    'never': 'Never',\n",
    "    '1-3': '1-3 times',\n",
    "    '4-8': '4-8 times'\n",
    "})\n",
    "\n",
    "# Convert 'restaurant_less_than_20' column to categorical\n",
    "data['restaurant_less_than_20'] = pd.Categorical(data['restaurant_less_than_20'], \n",
    "                                                 categories=['Never', 'Less than 1', \n",
    "                                                             '1-3 times', '4-8 times', \n",
    "                                                             'More than 8'], ordered=True)\n",
    "\n",
    "\n",
    "# Clean and standardize the 'restaurant_20_to_50' column\n",
    "data['restaurant_20_to_50'] = data['restaurant_20_to_50'].replace({\n",
    "    'less1': 'Less than 1',\n",
    "    'gt8': 'More than 8',\n",
    "    'never': 'Never',\n",
    "    '1-3': '1-3 times',\n",
    "    '4-8': '4-8 times'\n",
    "})\n",
    "\n",
    "# Convert 'restaurant_20_to_50' column to categorical\n",
    "data['restaurant_20_to_50'] = pd.Categorical(data['restaurant_20_to_50'], \n",
    "                                                 categories=['Never', 'Less than 1', \n",
    "                                                             '1-3 times', '4-8 times', \n",
    "                                                             'More than 8'], ordered=True)\n",
    "\n",
    "\n"
   ]
  },
  {
   "cell_type": "code",
   "execution_count": 12,
   "metadata": {},
   "outputs": [
    {
     "name": "stdout",
     "output_type": "stream",
     "text": [
      "<class 'pandas.core.frame.DataFrame'>\n",
      "RangeIndex: 12684 entries, 0 to 12683\n",
      "Data columns (total 26 columns):\n",
      " #   Column                   Non-Null Count  Dtype   \n",
      "---  ------                   --------------  -----   \n",
      " 0   destination              12684 non-null  category\n",
      " 1   passenger                12684 non-null  category\n",
      " 2   weather                  12684 non-null  category\n",
      " 3   temperature              12684 non-null  int64   \n",
      " 4   time                     12684 non-null  category\n",
      " 5   coupon                   12684 non-null  category\n",
      " 6   expiration               12684 non-null  category\n",
      " 7   gender                   12684 non-null  category\n",
      " 8   age                      12684 non-null  int64   \n",
      " 9   marital_status           12684 non-null  category\n",
      " 10  has_children             12684 non-null  int64   \n",
      " 11  education                12684 non-null  category\n",
      " 12  occupation               12684 non-null  category\n",
      " 13  income                   12684 non-null  category\n",
      " 14  car                      12684 non-null  object  \n",
      " 15  bar                      12684 non-null  category\n",
      " 16  coffee_house             12684 non-null  category\n",
      " 17  carry_away               12684 non-null  category\n",
      " 18  restaurant_less_than_20  12684 non-null  category\n",
      " 19  restaurant_20_to_50      12684 non-null  category\n",
      " 20  to_coupon_geq5min        12684 non-null  int64   \n",
      " 21  to_coupon_geq15min       12684 non-null  int64   \n",
      " 22  to_coupon_geq25min       12684 non-null  int64   \n",
      " 23  direction_same           12684 non-null  int64   \n",
      " 24  direction_opp            12684 non-null  int64   \n",
      " 25  y                        12684 non-null  int64   \n",
      "dtypes: category(16), int64(9), object(1)\n",
      "memory usage: 1.2+ MB\n"
     ]
    }
   ],
   "source": [
    "data.info()"
   ]
  },
  {
   "cell_type": "code",
   "execution_count": 13,
   "metadata": {},
   "outputs": [
    {
     "data": {
      "text/plain": [
       "destination                0\n",
       "passenger                  0\n",
       "weather                    0\n",
       "temperature                0\n",
       "time                       0\n",
       "coupon                     0\n",
       "expiration                 0\n",
       "gender                     0\n",
       "age                        0\n",
       "marital_status             0\n",
       "has_children               0\n",
       "education                  0\n",
       "occupation                 0\n",
       "income                     0\n",
       "car                        0\n",
       "bar                        0\n",
       "coffee_house               0\n",
       "carry_away                 0\n",
       "restaurant_less_than_20    0\n",
       "restaurant_20_to_50        0\n",
       "to_coupon_geq5min          0\n",
       "to_coupon_geq15min         0\n",
       "to_coupon_geq25min         0\n",
       "direction_same             0\n",
       "direction_opp              0\n",
       "y                          0\n",
       "dtype: int64"
      ]
     },
     "execution_count": 13,
     "metadata": {},
     "output_type": "execute_result"
    }
   ],
   "source": [
    "data.isnull().sum()\n",
    "\n",
    "# There are no null values left in any of the columns"
   ]
  },
  {
   "cell_type": "markdown",
   "metadata": {},
   "source": [
    "4. What proportion of the total observations chose to accept the coupon? \n",
    "\n"
   ]
  },
  {
   "cell_type": "code",
   "execution_count": 14,
   "metadata": {},
   "outputs": [
    {
     "data": {
      "text/plain": [
       "56.84"
      ]
     },
     "execution_count": 14,
     "metadata": {},
     "output_type": "execute_result"
    }
   ],
   "source": [
    "(((data['y']==1).sum() / data.shape[0]) * 100).round(2)"
   ]
  },
  {
   "cell_type": "markdown",
   "metadata": {},
   "source": [
    "5. Use a bar plot to visualize the `coupon` column."
   ]
  },
  {
   "cell_type": "code",
   "execution_count": 15,
   "metadata": {},
   "outputs": [
    {
     "name": "stderr",
     "output_type": "stream",
     "text": [
      "/Library/Frameworks/Python.framework/Versions/3.10/lib/python3.10/site-packages/seaborn/_oldcore.py:1498: FutureWarning: is_categorical_dtype is deprecated and will be removed in a future version. Use isinstance(dtype, CategoricalDtype) instead\n",
      "  if pd.api.types.is_categorical_dtype(vector):\n",
      "/Library/Frameworks/Python.framework/Versions/3.10/lib/python3.10/site-packages/seaborn/categorical.py:641: FutureWarning: The default of observed=False is deprecated and will be changed to True in a future version of pandas. Pass observed=False to retain current behavior or observed=True to adopt the future default and silence this warning.\n",
      "  grouped_vals = vals.groupby(grouper)\n"
     ]
    },
    {
     "data": {
      "image/png": "[encoded data removed]",
      "text/plain": [
       "<Figure size 640x480 with 1 Axes>"
      ]
     },
     "metadata": {},
     "output_type": "display_data"
    }
   ],
   "source": [
    "sns.countplot(data=data, x='coupon')\n",
    "plt.title('Coupon Distribution')\n",
    "plt.xlabel('Coupon')\n",
    "plt.ylabel('Frequency')\n",
    "# Rotate x-axis labels by 45 degrees\n",
    "plt.xticks(rotation=90)\n",
    "\n",
    "plt.show()"
   ]
  },
  {
   "cell_type": "markdown",
   "metadata": {},
   "source": [
    "6. Use a histogram to visualize the temperature column."
   ]
  },
  {
   "cell_type": "code",
   "execution_count": 16,
   "metadata": {},
   "outputs": [
    {
     "name": "stderr",
     "output_type": "stream",
     "text": [
      "/Library/Frameworks/Python.framework/Versions/3.10/lib/python3.10/site-packages/seaborn/_oldcore.py:1119: FutureWarning: use_inf_as_na option is deprecated and will be removed in a future version. Convert inf values to NaN before operating instead.\n",
      "  with pd.option_context('mode.use_inf_as_na', True):\n"
     ]
    },
    {
     "data": {
      "image/png": "[encoded data removed]",
      "text/plain": [
       "<Figure size 640x480 with 1 Axes>"
      ]
     },
     "metadata": {},
     "output_type": "display_data"
    }
   ],
   "source": [
    "sns.histplot(data=data, x='temperature', kde=False)\n",
    "plt.title('Temperature Distribution')\n",
    "plt.xlabel('Temperature')\n",
    "plt.ylabel('Frequency')\n",
    "plt.show()"
   ]
  },
  {
   "cell_type": "markdown",
   "metadata": {},
   "source": [
    "**Investigating the Bar Coupons**\n",
    "\n",
    "Now, we will lead you through an exploration of just the bar related coupons.  \n",
    "\n",
    "1. Create a new `DataFrame` that contains just the bar coupons.\n"
   ]
  },
  {
   "cell_type": "code",
   "execution_count": 17,
   "metadata": {},
   "outputs": [],
   "source": [
    "df_bar = data.query('coupon == \"Bar\"')"
   ]
  },
  {
   "cell_type": "markdown",
   "metadata": {},
   "source": [
    "2. What proportion of bar coupons were accepted?\n"
   ]
  },
  {
   "cell_type": "code",
   "execution_count": 18,
   "metadata": {},
   "outputs": [
    {
     "data": {
      "text/plain": [
       "41.0"
      ]
     },
     "execution_count": 18,
     "metadata": {},
     "output_type": "execute_result"
    }
   ],
   "source": [
    "(((df_bar['y']==1).sum() / df_bar.shape[0]) * 100).round(2)"
   ]
  },
  {
   "cell_type": "markdown",
   "metadata": {},
   "source": [
    "41.0 % of the bar coupons were accepted"
   ]
  },
  {
   "cell_type": "markdown",
   "metadata": {},
   "source": [
    "3. Compare the acceptance rate between those who went to a bar 3 or fewer times a month to those who went more.\n"
   ]
  },
  {
   "cell_type": "code",
   "execution_count": 19,
   "metadata": {},
   "outputs": [
    {
     "name": "stdout",
     "output_type": "stream",
     "text": [
      "Acceptance rate between people who went to a bar 3 or fewer times a month : 37.07%\n"
     ]
    }
   ],
   "source": [
    "# Filter the DataFrame for the specified categories\n",
    "filtered_df = df_bar.query('bar in [\"Never\", \"Less than 1\", \"1-3 times\"]')\n",
    "\n",
    "# Count the number of occurrences of 1's in the 'y' column\n",
    "accepted_count = (filtered_df['y'] == 1).sum()\n",
    "\n",
    "# Calculate the acceptance rate\n",
    "acceptance_rate = ((accepted_count / filtered_df.shape[0]) * 100).round(2)\n",
    "\n",
    "print(f\"Acceptance rate between people who went to a bar 3 or fewer times a month : {acceptance_rate}%\")"
   ]
  },
  {
   "cell_type": "code",
   "execution_count": 20,
   "metadata": {},
   "outputs": [
    {
     "name": "stdout",
     "output_type": "stream",
     "text": [
      "Acceptance rate between people who went to a bar 4 or more times a month : 76.88%\n"
     ]
    }
   ],
   "source": [
    "# Filter the DataFrame for the specified categories\n",
    "filtered_df = df_bar.query('bar in [\"4-8 times\", \"More than 8\"]')\n",
    "\n",
    "# Count the number of occurrences of 1's in the 'y' column\n",
    "accepted_count = (filtered_df['y'] == 1).sum()\n",
    "\n",
    "# Calculate the acceptance rate\n",
    "acceptance_rate = ((accepted_count / filtered_df.shape[0]) * 100).round(2)\n",
    "\n",
    "print(f\"Acceptance rate between people who went to a bar 4 or more times a month : {acceptance_rate}%\")"
   ]
  },
  {
   "cell_type": "markdown",
   "metadata": {},
   "source": [
    "4. Compare the acceptance rate between drivers who go to a bar more than once a month and are over the age of 25 to the all others.  Is there a difference?\n"
   ]
  },
  {
   "cell_type": "code",
   "execution_count": 21,
   "metadata": {},
   "outputs": [
    {
     "name": "stdout",
     "output_type": "stream",
     "text": [
      "Acceptance rate for people who went to a bar more than once a month\n",
      "and are over 25 years old is : 69.52%\n"
     ]
    }
   ],
   "source": [
    "# Filter the DataFrame for the specified categories\n",
    "filtered_df = df_bar.query('(bar in [\"1-3 times\", \"4-8 times\", \"More than 8\"]) & age > 25')\n",
    "\n",
    "# Count the number of occurrences of 1's in the 'y' column\n",
    "accepted_count = (filtered_df['y'] == 1).sum()\n",
    "\n",
    "# Calculate the acceptance rate\n",
    "acceptance_rate = ((accepted_count / filtered_df.shape[0]) * 100).round(2)\n",
    "\n",
    "print(f\"Acceptance rate for people who went to a bar more than once a month\")\n",
    "print(f\"and are over 25 years old is : {acceptance_rate}%\")"
   ]
  },
  {
   "cell_type": "code",
   "execution_count": 22,
   "metadata": {},
   "outputs": [
    {
     "name": "stdout",
     "output_type": "stream",
     "text": [
      "Acceptance rate for people who never went to the bar\n",
      "and are over 25 years old is: 26.35%\n"
     ]
    }
   ],
   "source": [
    "# Filter the DataFrame for the specified categories\n",
    "filtered_df = df_bar.query('bar in [\"Never\", \"Less than 1\"] & age > 25')\n",
    "\n",
    "# Count the number of occurrences of 1's in the 'y' column\n",
    "accepted_count = (filtered_df['y'] == 1).sum()\n",
    "\n",
    "# Calculate the acceptance rate\n",
    "acceptance_rate = ((accepted_count / filtered_df.shape[0]) * 100).round(2)\n",
    "\n",
    "print(f\"Acceptance rate for people who never went to the bar\")\n",
    "print(f\"and are over 25 years old is: {acceptance_rate}%\")"
   ]
  },
  {
   "cell_type": "markdown",
   "metadata": {},
   "source": [
    "5. Use the same process to compare the acceptance rate between drivers who go to bars more than once a month and had passengers that were not a kid and had occupations other than farming, fishing, or forestry. \n"
   ]
  },
  {
   "cell_type": "code",
   "execution_count": 23,
   "metadata": {},
   "outputs": [
    {
     "name": "stdout",
     "output_type": "stream",
     "text": [
      "Acceptance rate for drivers who go to bars more than once a month\n",
      "and had passengers that were not a kid and had occupations other \n",
      "than farming, fishing, or forestry: 71.79%\n"
     ]
    }
   ],
   "source": [
    "# Filter the DataFrame for the specified categories\n",
    "filter_df = df_bar.query('(bar in [\"1-3 times\", \"4-8 times\", \"More than 8\"]) \\\n",
    "                            & passenger not in [\"Kid(s)\", \"Alone\"] \\\n",
    "                            & occupation not in [\"Farming Fishing & Forestry\"]')\n",
    "\n",
    "# Count the number of occurrences of 1's in the 'y' column\n",
    "accepted_count = (filter_df['y'] == 1).sum()\n",
    "\n",
    "# Calculate the acceptance rate\n",
    "acceptance_rate = ((accepted_count / filter_df.shape[0]) * 100).round(2)\n",
    "\n",
    "print(f\"Acceptance rate for drivers who go to bars more than once a month\")\n",
    "print(f\"and had passengers that were not a kid and had occupations other \")\n",
    "print(f\"than farming, fishing, or forestry: {acceptance_rate}%\")"
   ]
  },
  {
   "cell_type": "code",
   "execution_count": 24,
   "metadata": {},
   "outputs": [
    {
     "name": "stdout",
     "output_type": "stream",
     "text": [
      "Acceptance rate for drivers who go to bars once a month or less\n",
      "and had passengers that were not a kid and had occupations other \n",
      "than farming, fishing, or forestry: 37.35%\n"
     ]
    }
   ],
   "source": [
    "# Filter the DataFrame for the specified categories\n",
    "filter_df = df_bar.query('(bar in [\"Never\", \"Less than 1\"]) \\\n",
    "                            & passenger not in [\"Kid(s)\", \"Alone\"] \\\n",
    "                            & occupation not in [\"Farming Fishing & Forestry\"]')\n",
    "\n",
    "# Count the number of occurrences of 1's in the 'y' column\n",
    "accepted_count = (filter_df['y'] == 1).sum()\n",
    "\n",
    "# Calculate the acceptance rate\n",
    "acceptance_rate = ((accepted_count / filter_df.shape[0]) * 100).round(2)\n",
    "\n",
    "print(f\"Acceptance rate for drivers who go to bars once a month or less\")\n",
    "print(f\"and had passengers that were not a kid and had occupations other \")\n",
    "print(f\"than farming, fishing, or forestry: {acceptance_rate}%\")"
   ]
  },
  {
   "cell_type": "markdown",
   "metadata": {},
   "source": [
    "6. Compare the acceptance rates between those drivers who:\n",
    "\n",
    "- go to bars more than once a month, had passengers that were not a kid, and were not widowed *OR*\n",
    "- go to bars more than once a month and are under the age of 30 *OR*\n",
    "- go to cheap restaurants more than 4 times a month and income is less than 50K. \n",
    "\n"
   ]
  },
  {
   "cell_type": "code",
   "execution_count": 25,
   "metadata": {},
   "outputs": [
    {
     "name": "stdout",
     "output_type": "stream",
     "text": [
      "Acceptance rate for drivers who go to bars once a month\n",
      "had passengers that were not a kid, and were not widowed: 71.32%\n"
     ]
    }
   ],
   "source": [
    "# Filter 1: go to bars more than once a month, had passengers that were not a kid, and were not widowed\n",
    "filter_group1 = df_bar.query('(bar in [\"1-3 times\", \"4-8 times\", \"More than 8\"]) \\\n",
    "                            & passenger not in [\"Kid(s)\"] \\\n",
    "                            & marital_status != \"Widowed\"')\n",
    "\n",
    "# Count the number of occurrences of 1's in the 'y' column\n",
    "accepted_count = (filter_group1['y'] == 1).sum()\n",
    "\n",
    "# Calculate the acceptance rate\n",
    "acceptance_rate = ((accepted_count / filter_group1.shape[0]) * 100).round(2)\n",
    "\n",
    "print(f\"Acceptance rate for drivers who go to bars once a month\")\n",
    "print(f\"had passengers that were not a kid, and were not widowed: {acceptance_rate}%\")"
   ]
  },
  {
   "cell_type": "code",
   "execution_count": 26,
   "metadata": {},
   "outputs": [
    {
     "name": "stdout",
     "output_type": "stream",
     "text": [
      "Acceptance rate for drivers who go to bars once a month\n",
      "and are under the age of 30: 72.17%\n"
     ]
    }
   ],
   "source": [
    "# Filter 2: go to bars more than once a month and are under the age of 30\n",
    "filter_group2 = df_bar.query('(bar in [\"1-3 times\", \"4-8 times\", \"More than 8\"]) \\\n",
    "                            & age < 30')\n",
    "\n",
    "# Count the number of occurrences of 1's in the 'y' column\n",
    "accepted_count = (filter_group2['y'] == 1).sum()\n",
    "\n",
    "# Calculate the acceptance rate\n",
    "acceptance_rate = ((accepted_count / filter_group2.shape[0]) * 100).round(2)\n",
    "\n",
    "print(f\"Acceptance rate for drivers who go to bars once a month\")\n",
    "print(f\"and are under the age of 30: {acceptance_rate}%\")"
   ]
  },
  {
   "cell_type": "code",
   "execution_count": 27,
   "metadata": {},
   "outputs": [
    {
     "name": "stdout",
     "output_type": "stream",
     "text": [
      "Acceptance rate for drivers who go to cheap restaurants more than\n",
      "4 times a month and income is less than 50K: 45.35%\n"
     ]
    }
   ],
   "source": [
    "# Filter 3: go to cheap restaurants more than 4 times a month and income is less than 50K\n",
    "filter_group3 = df_bar.query('(restaurant_less_than_20 in [\"4-8 times\", \"More than 8\"]) \\\n",
    "                            & (income in [\"Less than 12500\", \"12500-24999\", \"25000-37499\", \"37500-49999\"])')\n",
    "\n",
    "# Count the number of occurrences of 1's in the 'y' column\n",
    "accepted_count = (filter_group3['y'] == 1).sum()\n",
    "\n",
    "# Calculate the acceptance rate\n",
    "acceptance_rate = ((accepted_count / filter_group3.shape[0]) * 100).round(2)\n",
    "\n",
    "print(f\"Acceptance rate for drivers who go to cheap restaurants more than\")\n",
    "print(f\"4 times a month and income is less than 50K: {acceptance_rate}%\")"
   ]
  },
  {
   "cell_type": "markdown",
   "metadata": {},
   "source": [
    "7.  Based on these observations, what do you hypothesize about drivers who accepted the bar coupons?"
   ]
  },
  {
   "cell_type": "markdown",
   "metadata": {},
   "source": [
    "**Overall acceptance rate** The overall acceptance rate for bar coupons is 41%\n",
    "\n",
    "**Frequency of bar visits** Drivers who frequent bars 4 or more times a month, have a higher acceptance rate (76.88%) compared to those who go three times or fewer (37.07%). Bar goers are more inclined to accept bar-related coupons. \n",
    "\n",
    "**Age factor** Drivers over the age of 25 who go to a bar more than once a month have a higher acceptance rate (69.52%) compared to those who never go (26.35%). Age and frquency of bar visits seem to correlate with a higher likelyhood of accepting bar coupons. \n",
    "\n",
    "**Passenger type and occupation** Drivers who go to bars more than once a month, had passengers that were not kids, and had non-farming/fishing/forestry occupations showed a higher acceptance rate (71.79%) compared to their less frequent counterparts (37.35%). This highlights that drivers without children as passengers and specific occupations might have more leisure time and as a result, are more likely to accept offers to leisure activities like bars.\n",
    "\n",
    "Social lifestyle - Drivers who frequently visit bars and are generally younger or not constrained by family responsibilities (like having children or being widowed) are more likely to accept bar coupons. Such offers are more attractive because of their more active lifestyle. \n",
    "\n",
    "Overall, the data suggests a strong correlation between lifestyle choices (frequency of bar visits, age, family status, and occupation) and the likelyhood of accepting bar coupons. These insights could be valuable for targeted marketing strategies, offering bar related promotions to demographics more likely to accept and benefit from them. \n"
   ]
  },
  {
   "cell_type": "markdown",
   "metadata": {},
   "source": [
    "### Independent Investigation\n",
    "\n",
    "Using the bar coupon example as motivation, you are to explore one of the other coupon groups and try to determine the characteristics of passengers who accept the coupons.  "
   ]
  },
  {
   "cell_type": "markdown",
   "metadata": {},
   "source": [
    "### Coffee House Coupon Acceptance\n",
    "\n",
    "1. Create a new `DataFrame` that contains just the Coffee House coupons."
   ]
  },
  {
   "cell_type": "code",
   "execution_count": 28,
   "metadata": {},
   "outputs": [],
   "source": [
    "df_coffeeHouse = data.query('coupon == \"Coffee House\"')"
   ]
  },
  {
   "cell_type": "markdown",
   "metadata": {},
   "source": [
    "\n",
    "\n",
    "### Scenario 1: Frequency of Coffee House Visits and Coupon Acceptance\n",
    "\n",
    "**Objective**: Analyze the acceptance rate of coffee house coupons based on how frequently the passengers visit coffee houses.\n",
    "\n",
    "**Filters:**\n",
    "\n",
    "**Frequent Visitors:** Drivers who visit coffee houses more than 4 times a month.<br>\n",
    "**Infrequent Visitors:** Drivers who visit coffee houses up to 3 times a month.<br>\n",
    "**Non-Visitors:** Driers who never visit coffee houses."
   ]
  },
  {
   "cell_type": "code",
   "execution_count": 29,
   "metadata": {},
   "outputs": [
    {
     "name": "stdout",
     "output_type": "stream",
     "text": [
      "Acceptance rate for drivers who visit coffee houses more than 4 times a month: 50.72%\n"
     ]
    }
   ],
   "source": [
    "# Filter 1: Drivers who visit coffee houses more than 4 times a month.\n",
    "filter_group1 = df_coffeeHouse.query('(bar in [\"4-8 times\", \"More than 8\"])')\n",
    "\n",
    "# Count the number of occurrences of 1's in the 'y' column\n",
    "accepted_count = (filter_group1['y'] == 1).sum()\n",
    "\n",
    "# Calculate the acceptance rate\n",
    "acceptance_rate = ((accepted_count / filter_group1.shape[0]) * 100).round(2)\n",
    "\n",
    "print(f\"Acceptance rate for drivers who visit coffee houses more than 4 times a month: {acceptance_rate}%\")"
   ]
  },
  {
   "cell_type": "code",
   "execution_count": 30,
   "metadata": {},
   "outputs": [
    {
     "name": "stdout",
     "output_type": "stream",
     "text": [
      "Acceptance rate for drivers who visit\n",
      "coffee houses up to 3 times a month: 49.81%\n"
     ]
    }
   ],
   "source": [
    "# Filter 2: Drivers who visit coffee houses up to 3 times a month\n",
    "filter_group2 = df_coffeeHouse.query('(bar in [\"Never\", \"Less than 1\", \"1-3 times\"])')\n",
    "\n",
    "# Count the number of occurrences of 1's in the 'y' column\n",
    "accepted_count = (filter_group2['y'] == 1).sum()\n",
    "\n",
    "# Calculate the acceptance rate\n",
    "acceptance_rate = ((accepted_count / filter_group2.shape[0]) * 100).round(2)\n",
    "\n",
    "print(f\"Acceptance rate for drivers who visit\")\n",
    "print(f\"coffee houses up to 3 times a month: {acceptance_rate}%\")"
   ]
  },
  {
   "cell_type": "code",
   "execution_count": 31,
   "metadata": {},
   "outputs": [
    {
     "name": "stdout",
     "output_type": "stream",
     "text": [
      "Acceptance rate for drivers who never visit coffee houses: 49.25%\n"
     ]
    }
   ],
   "source": [
    "# Filter 3: Driers who never visit coffee houses\n",
    "filter_group3 = df_coffeeHouse.query('(bar in [\"Never\"])')\n",
    "\n",
    "# Count the number of occurrences of 1's in the 'y' column\n",
    "accepted_count = (filter_group3['y'] == 1).sum()\n",
    "\n",
    "# Calculate the acceptance rate\n",
    "acceptance_rate = ((accepted_count / filter_group3.shape[0]) * 100).round(2)\n",
    "\n",
    "print(f\"Acceptance rate for drivers who never visit coffee houses: {acceptance_rate}%\")"
   ]
  },
  {
   "cell_type": "markdown",
   "metadata": {},
   "source": [
    "### Scenario 2: Effect of Passenger Type on Coffee House Coupon Acceptance\n",
    "\n",
    "\n",
    "**Objective**: Explore whether having certain types of passengers affects the likelihood of accepting coffee house coupons.\n",
    "\n",
    "**Filters:**\n",
    "\n",
    "**Alone:** The driver is alone.<br>\n",
    "**With Kids:** The driver has kids as passengers.<br>\n",
    "**With Friends:** The driver is with friends."
   ]
  },
  {
   "cell_type": "code",
   "execution_count": 32,
   "metadata": {},
   "outputs": [
    {
     "name": "stdout",
     "output_type": "stream",
     "text": [
      "Acceptance rate for drivers who are alone: 43.79%\n"
     ]
    }
   ],
   "source": [
    "# Filter 1: The driver is alone\n",
    "filter_group1 = df_coffeeHouse.query('(passenger == \"Alone\")')\n",
    "\n",
    "# Count the number of occurrences of 1's in the 'y' column\n",
    "accepted_count = (filter_group1['y'] == 1).sum()\n",
    "\n",
    "# Calculate the acceptance rate\n",
    "acceptance_rate = ((accepted_count / filter_group1.shape[0]) * 100).round(2)\n",
    "\n",
    "print(f\"Acceptance rate for drivers who are alone: {acceptance_rate}%\")"
   ]
  },
  {
   "cell_type": "code",
   "execution_count": 33,
   "metadata": {},
   "outputs": [
    {
     "name": "stdout",
     "output_type": "stream",
     "text": [
      "Acceptance rate for drivers that have kids passengers: 48.31%\n"
     ]
    }
   ],
   "source": [
    "# Filter 2: The driver has kids as passengers\n",
    "filter_group2 = df_coffeeHouse.query('(passenger == \"Kid(s)\")')\n",
    "\n",
    "# Count the number of occurrences of 1's in the 'y' column\n",
    "accepted_count = (filter_group2['y'] == 1).sum()\n",
    "\n",
    "# Calculate the acceptance rate\n",
    "acceptance_rate = ((accepted_count / filter_group2.shape[0]) * 100).round(2)\n",
    "\n",
    "print(f\"Acceptance rate for drivers that have kids passengers: {acceptance_rate}%\")"
   ]
  },
  {
   "cell_type": "code",
   "execution_count": 34,
   "metadata": {},
   "outputs": [
    {
     "name": "stdout",
     "output_type": "stream",
     "text": [
      "Acceptance rate for drivers that have kids passengers: 59.69%\n"
     ]
    }
   ],
   "source": [
    "# Filter 3: The driver is with friends\n",
    "filter_group3 = df_coffeeHouse.query('(passenger == \"Friend(s)\")')\n",
    "\n",
    "# Count the number of occurrences of 1's in the 'y' column\n",
    "accepted_count = (filter_group3['y'] == 1).sum()\n",
    "\n",
    "# Calculate the acceptance rate\n",
    "acceptance_rate = ((accepted_count / filter_group3.shape[0]) * 100).round(2)\n",
    "\n",
    "print(f\"Acceptance rate for drivers that have kids passengers: {acceptance_rate}%\")"
   ]
  },
  {
   "cell_type": "markdown",
   "metadata": {},
   "source": [
    "Based on these observations, what do you hypothesize about drivers who accepted the bar coupons?"
   ]
  },
  {
   "cell_type": "markdown",
   "metadata": {},
   "source": [
    "**Habitual coffee drinkers are more likely to accept coupons** as those who visit coffee houses frequently have the highest acceptance rate. This suggests loyalty programs might be effective for this group.\n",
    "\n",
    "**The presence of friends significantly increases the acceptance rate** indicating that social gatherings are great opportunities for coffee house promotions. Offers that cater to group activities or social experiences could prove effective. \n",
    "\n",
    "**Solo drivers are less likely to accept coupons** potantially because they prefer to continue directly to their destination without interruptions. "
   ]
  },
  {
   "cell_type": "code",
   "execution_count": null,
   "metadata": {},
   "outputs": [],
   "source": []
  }
 ],
 "metadata": {
  "kernelspec": {
   "display_name": "Python 3 (ipykernel)",
   "language": "python",
   "name": "python3"
  },
  "language_info": {
   "codemirror_mode": {
    "name": "ipython",
    "version": 3
   },
   "file_extension": ".py",
   "mimetype": "text/x-python",
   "name": "python",
   "nbconvert_exporter": "python",
   "pygments_lexer": "ipython3",
   "version": "3.10.4"
  },
  "widgets": {
   "application/vnd.jupyter.widget-state+json": {
    "state": {},
    "version_major": 2,
    "version_minor": 0
   }
  }
 },
 "nbformat": 4,
 "nbformat_minor": 4
}
